{
 "cells": [
  {
   "cell_type": "code",
   "execution_count": 11,
   "id": "d0a77068-190a-4567-9eb5-555b9370e414",
   "metadata": {},
   "outputs": [
    {
     "name": "stdout",
     "output_type": "stream",
     "text": [
      "         Time     Signal  Output\n",
      "0    0.000000  12.000000       1\n",
      "1    0.001001  12.000000       1\n",
      "2    0.002002  11.850281       1\n",
      "3    0.003003  12.000000       1\n",
      "4    0.004004  12.000000       1\n",
      "..        ...        ...     ...\n",
      "995  0.995996  11.965264       1\n",
      "996  0.996997  11.900641       1\n",
      "997  0.997998  11.936743       1\n",
      "998  0.998999  12.000000       1\n",
      "999  1.000000  11.796820       1\n",
      "\n",
      "[1000 rows x 3 columns]\n"
     ]
    }
   ],
   "source": [
    "import pandas as pd\n",
    "\n",
    "# Load the CSV file\n",
    "df = pd.read_csv(\"ques9.csv\")\n",
    "\n",
    "# Hysteresis thresholds\n",
    "upper_threshold = 5.5\n",
    "lower_threshold = 4.5\n",
    "state = 0  # Initial state (LOW)\n",
    "\n",
    "# Initialize output list\n",
    "output_signal = []\n",
    "\n",
    "# Apply hysteresis logic\n",
    "for voltage in df[\"Signal\"]:\n",
    "    if voltage > upper_threshold:\n",
    "        state = 1  # Set HIGH\n",
    "    elif voltage < lower_threshold:\n",
    "        state = 0  # Set LOW\n",
    "    output_signal.append(state)  # Append current state\n",
    "\n",
    "# Add output to DataFrame\n",
    "df[\"Output\"] = output_signal\n",
    "\n",
    "# Print the processed data\n",
    "print(df)"
   ]
  },
  {
   "cell_type": "code",
   "execution_count": null,
   "id": "b13ca475-d8de-4c46-a679-c8eec2fde679",
   "metadata": {},
   "outputs": [],
   "source": []
  }
 ],
 "metadata": {
  "kernelspec": {
   "display_name": "Python [conda env:base] *",
   "language": "python",
   "name": "conda-base-py"
  },
  "language_info": {
   "codemirror_mode": {
    "name": "ipython",
    "version": 3
   },
   "file_extension": ".py",
   "mimetype": "text/x-python",
   "name": "python",
   "nbconvert_exporter": "python",
   "pygments_lexer": "ipython3",
   "version": "3.12.7"
  }
 },
 "nbformat": 4,
 "nbformat_minor": 5
}
