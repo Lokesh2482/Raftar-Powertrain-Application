{
 "cells": [
  {
   "cell_type": "code",
   "execution_count": null,
   "id": "236cf830-d0e2-4e57-bf72-3068bf6d1b7d",
   "metadata": {},
   "outputs": [],
   "source": []
  }
 ],
 "metadata": {
  "kernelspec": {
   "display_name": "",
   "name": ""
  },
  "language_info": {
   "name": ""
  }
 },
 "nbformat": 4,
 "nbformat_minor": 5
}
